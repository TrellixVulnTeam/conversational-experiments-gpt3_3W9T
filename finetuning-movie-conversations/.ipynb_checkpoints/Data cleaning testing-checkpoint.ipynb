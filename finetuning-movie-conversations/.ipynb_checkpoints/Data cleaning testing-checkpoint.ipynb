{
 "cells": [
  {
   "cell_type": "code",
   "execution_count": 3,
   "id": "90aa46a5",
   "metadata": {},
   "outputs": [],
   "source": [
    "import openai \n",
    "import pandas as pd \n",
    "import numpy as np\n",
    "import json\n",
    "from datetime import datetime"
   ]
  },
  {
   "cell_type": "code",
   "execution_count": 19,
   "id": "3b3b9d70",
   "metadata": {},
   "outputs": [],
   "source": [
    "conversations = pd.read_csv(\"cornell-dialog-data/movie_conversations.tsv\", encoding='utf-8-sig', sep=\"\\t\")\n",
    "titles = pd.read_csv(\"cornell-dialog-data/movie_titles_metadata.tsv\", encoding='utf-8-sig', sep=\"\\t\")\n",
    "lines_df = pd.read_csv(\"cornell-dialog-data/movie_lines.tsv\", encoding='utf-8-sig', header = None)\n",
    "lines = lines[0].str.split('\\t')\n",
    "characters = pd.read_csv(\"cornell-dialog-data/movie_conversations.tsv\", encoding='utf-8-sig', sep=\"\\t\")"
   ]
  },
  {
   "cell_type": "code",
   "execution_count": 22,
   "id": "23428cc2",
   "metadata": {},
   "outputs": [
    {
     "data": {
      "text/plain": [
       "['L1045', 'u0', 'm0', 'BIANCA', 'They do not!']"
      ]
     },
     "execution_count": 22,
     "metadata": {},
     "output_type": "execute_result"
    }
   ],
   "source": []
  }
 ],
 "metadata": {
  "kernelspec": {
   "display_name": "Python 3 (ipykernel)",
   "language": "python",
   "name": "python3"
  },
  "language_info": {
   "codemirror_mode": {
    "name": "ipython",
    "version": 3
   },
   "file_extension": ".py",
   "mimetype": "text/x-python",
   "name": "python",
   "nbconvert_exporter": "python",
   "pygments_lexer": "ipython3",
   "version": "3.8.5"
  }
 },
 "nbformat": 4,
 "nbformat_minor": 5
}
