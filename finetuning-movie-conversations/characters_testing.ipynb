{
 "cells": [
  {
   "cell_type": "code",
   "execution_count": 13,
   "metadata": {},
   "outputs": [],
   "source": [
    "import openai\n",
    "import numpy as np\n",
    "import pandas as pd\n",
    "import json\n",
    "import random"
   ]
  },
  {
   "cell_type": "code",
   "execution_count": 134,
   "metadata": {},
   "outputs": [],
   "source": [
    "class Character:\n",
    "\n",
    "    personality_dict = {\n",
    "        'Mela': 'Mela is a wandering cowboy in for the night. She is brutally honest, quick to banter, impulsive, and a complete wildcard. She can kick your ass with a look.',\n",
    "        'Zaya': \"Zaya is the town's doctor. She always sees the best in people, and strives to make people feel nurtured and secure.\",\n",
    "        'Kor': \"Kor is the town's 'wise old wizzard'. He leads the education of the youth and knows all the townspeople's personalities by heart. Full of pithy quotes and insights about humanity.\",\n",
    "        'Pari': \"Pari is the town's leader. Will do whatever it takes to solve a problem. Will throw caution to the wind and relies heavily on improvisation, though.\"\n",
    "    }\n",
    "    def generate_personality(self):\n",
    "        return(self.personality_dict[self.name])\n",
    "\n",
    "\n",
    "    relationship_dict = {\n",
    "        'Mela': {\n",
    "            'Zaya': 'Mela is indifferent to Zaya.',\n",
    "            'Kor': 'Mela is indifferent to Kor',\n",
    "            'Pari': \"Mela dislikes Pari because she thinks he's too cool for school\"\n",
    "        },\n",
    "        'Zaya': {\n",
    "            'Mela': 'Zaya thinks Mela is cute and has a crush on her.', \n",
    "            'Kor': 'Zaya likes Kor, and will always recommend the detective talk to Kor about the other townspeople because Kor knows best',\n",
    "            'Pari': \"Zaya is Pari's sister. She loves Pari with all her heart and will do anything to protect him, including lying.\"\n",
    "        },\n",
    "        'Kor': {\n",
    "            'Mela': 'Kor thinks Mela is surprisingly hilarious and wants her to stay in town.', \n",
    "            'Zaya': 'Kor wants more out of Zaya and thinks her dedication to Pari will be the end of her.',\n",
    "            'Pari': 'Kor thinks Pari has potential, but is too reckless needs to be reigned in.'\n",
    "        }, \n",
    "        'Pari': {\n",
    "            'Mela': 'Pari hates Mela because he thinks she is threatening his dominance over the town.',\n",
    "            'Zaya': 'Pari loves his sister Zaya.',\n",
    "            'Kor': 'Pari is skeptical of Kor. Kor disciplined Pari as a youth, and Pari is unsure if Kor is good for the town.'\n",
    "        }\n",
    "    }\n",
    "    def generate_relationships(self):\n",
    "        return(self.relationship_dict[self.name])\n",
    "\n",
    "    \n",
    "    def get_confidantes(self):\n",
    "        pos = [i for i, x in enumerate(g1.char_locations) if x == self.location]\n",
    "        names = [g1.names[i] for i in pos]\n",
    "        names.remove(self.name)\n",
    "\n",
    "        return(names)\n",
    "\n",
    "\n",
    "\n",
    "\n",
    "\n",
    "    def generate_initial_prompt(self):\n",
    "        #initial line\n",
    "        initial_line = 'Last night in a small town, ' + g1.names[g1.dead_person] + ' was murdered. An out of town Detective begun their investigation the ensuing morning. This is a conversation between the Detective and ' + self.name + ', a townsperson.\\n'\n",
    "        \n",
    "\n",
    "        #character line\n",
    "        character_line = 'Character: ' + self.name + '\\n'\n",
    "\n",
    "\n",
    "\n",
    "        #location line + confidantes line\n",
    "        location_line = 'Last Night Location: ' + self.location\n",
    "        confidantes_line = ''\n",
    "        if len(self.confidantes) > 0:\n",
    "            confidantes_line = ' with'\n",
    "            for n in self.confidantes:\n",
    "                confidantes_line = confidantes_line + ' ' + n\n",
    "            \n",
    "            confidantes_line = confidantes_line + '.\\n'\n",
    "        \n",
    "        else:\n",
    "            confidantes_line = ' alone.\\n'\n",
    "        \n",
    "        location_line = location_line + confidantes_line\n",
    "\n",
    "\n",
    "\n",
    "        #killer line\n",
    "        killer_line = 'Killer: '\n",
    "        if self.is_killer:\n",
    "            killer_line = killer_line + self.name + ' is the killer.\\n'\n",
    "        else:\n",
    "            killer_line = killer_line + self.name + ' is not the killer.\\n'\n",
    "\n",
    "        fake_location_line = ''\n",
    "        if self.is_killer:\n",
    "            fake_location_line = self.fake_location + '\\n'\n",
    "\n",
    "        \n",
    "        #personality line\n",
    "        personality_line = 'Personality: ' + self.personality + '\\n'\n",
    "\n",
    "        \n",
    "\n",
    "\n",
    "\n",
    "        #other characters line\n",
    "        other_characters_line = 'Other Characters:\\n'\n",
    "        temp_dict = self.personality_dict.copy()\n",
    "        del temp_dict[self.name]\n",
    "\n",
    "        for key,value in temp_dict.items():\n",
    "            other_characters_line = other_characters_line + '- ' + key + ': ' + value + '\\n'\n",
    "\n",
    "\n",
    "\n",
    "\n",
    "\n",
    "        #Relationship lines\n",
    "        relationship_line = 'Relationships:\\n'\n",
    "        for key, value in self.relationships.items(): \n",
    "            relationship_line = relationship_line + '- ' + key + ': ' + value + '\\n'\n",
    "\n",
    "\n",
    "\n",
    "        #gossip line\n",
    "        gossip_line = 'Gossip: '\n",
    "        if self.name == 'Kor':\n",
    "            gossip_line = gossip_line + self.name + ' thinks that ' + g1.motive + '\\n'\n",
    "        else: \n",
    "            gossip_line = gossip_line + self.name + ' has no gossip.\\n'\n",
    "\n",
    "        \n",
    "\n",
    "        #return the total\n",
    "        total_prompt = initial_line + character_line + location_line + killer_line + fake_location_line + personality_line + other_characters_line + relationship_line + gossip_line\n",
    "        return(total_prompt)\n",
    "\n",
    "        \n",
    "\n",
    "    def __init__(self, number, name, location, is_dead, is_killer):\n",
    "        self.number = number\n",
    "        self.name = name\n",
    "        self.location = location\n",
    "        self.is_dead = is_dead\n",
    "        self.is_killer = is_killer \n",
    "        self.fake_location = 'bar' if is_killer else location\n",
    "\n",
    "        self.personality = self.generate_personality()\n",
    "        self.relationships = self.generate_relationships()\n",
    "        self.confidantes = self.get_confidantes()\n",
    "        self.initial_prompt = self.generate_initial_prompt()\n",
    "\n",
    "    "
   ]
  },
  {
   "cell_type": "code",
   "execution_count": 135,
   "metadata": {},
   "outputs": [],
   "source": [
    "class Game:\n",
    "    def generate_motive(self):\n",
    "        motive = self.names[self.dead_person] + ' slept with ' + self.names[self.killer] + \"'s partner\"\n",
    "        return(motive)\n",
    "        \n",
    "\n",
    "    def __init__(self):\n",
    "\n",
    "        self.names = ['Mela', 'Zaya', 'Kor', 'Pari']\n",
    "        self.locations = ['bar', 'hotel', 'theatre']\n",
    "\n",
    "        self.dead_person = random.randint(0, 3)\n",
    "        self.killer = self.dead_person\n",
    "        self.kill_location = random.choice(self.locations)\n",
    "\n",
    "        while(self.killer == self.dead_person):\n",
    "            self.killer = random.randint(0,3)\n",
    "\n",
    "        self.char_locations = [\n",
    "            random.choice(self.locations),\n",
    "            random.choice(self.locations),\n",
    "            random.choice(self.locations),\n",
    "            random.choice(self.locations)\n",
    "        ]\n",
    "        self.char_locations[self.killer] = self.kill_location\n",
    "\n",
    "        self.motive = self.generate_motive()"
   ]
  },
  {
   "cell_type": "code",
   "execution_count": 136,
   "metadata": {},
   "outputs": [],
   "source": [
    "g1 = Game()\n",
    "\n",
    "Mela = Character(0, g1.names[0], g1.char_locations[0], 0 == g1.dead_person, 0 == g1.killer)\n",
    "Zaya = Character(1, g1.names[1], g1.char_locations[1], 1 == g1.dead_person, 1 == g1.killer)\n",
    "Kor = Character(2, g1.names[2], g1.char_locations[2], 2 == g1.dead_person, 2 == g1.killer)\n",
    "Pari = Character(3, g1.names[3], g1.char_locations[3], 3 == g1.dead_person, 3 == g1.killer)"
   ]
  },
  {
   "cell_type": "code",
   "execution_count": 137,
   "metadata": {},
   "outputs": [
    {
     "name": "stdout",
     "output_type": "stream",
     "text": [
      "Last night in a small town, Pari was murdered. An out of town Detective begun their investigation the ensuing morning. This is a conversation between the Detective and Pari, a townsperson.\n",
      "Character: Pari\n",
      "Last Night Location: theatre with Kor.\n",
      "Killer: Pari is not the killer.\n",
      "Personality: Pari is the town's leader. Will do whatever it takes to solve a problem. Will throw caution to the wind and relies heavily on improvisation, though.\n",
      "Other Characters:\n",
      "- Mela: Mela is a wandering cowboy in for the night. She is brutally honest, quick to banter, impulsive, and a complete wildcard. She can kick your ass with a look.\n",
      "- Zaya: Zaya is the town's doctor. She always sees the best in people, and strives to make people feel nurtured and secure.\n",
      "- Kor: Kor is the town's 'wise old wizzard'. He leads the education of the youth and knows all the townspeople's personalities by heart. Full of pithy quotes and insights about humanity.\n",
      "Relationships:\n",
      "- Mela: Pari hates Mela because he thinks she is threatening his dominance over the town.\n",
      "- Zaya: Pari loves his sister Zaya.\n",
      "- Kor: Pari is skeptical of Kor. Kor disciplined Pari as a youth, and Pari is unsure if Kor is good for the town.\n",
      "Gossip: Pari has no gossip.\n",
      "\n"
     ]
    }
   ],
   "source": [
    "print(Pari.initial_prompt)"
   ]
  },
  {
   "cell_type": "code",
   "execution_count": 132,
   "metadata": {},
   "outputs": [
    {
     "ename": "KeyError",
     "evalue": "'Mela'",
     "output_type": "error",
     "traceback": [
      "\u001b[0;31m---------------------------------------------------------------------------\u001b[0m",
      "\u001b[0;31mKeyError\u001b[0m                                  Traceback (most recent call last)",
      "\u001b[0;32m/var/folders/vx/026hlx851_zcnp0g16d50p2r0000gn/T/ipykernel_3582/1891896981.py\u001b[0m in \u001b[0;36m<module>\u001b[0;34m\u001b[0m\n\u001b[0;32m----> 1\u001b[0;31m \u001b[0mMela\u001b[0m \u001b[0;34m=\u001b[0m \u001b[0mCharacter\u001b[0m\u001b[0;34m(\u001b[0m\u001b[0;36m0\u001b[0m\u001b[0;34m,\u001b[0m \u001b[0mg1\u001b[0m\u001b[0;34m.\u001b[0m\u001b[0mnames\u001b[0m\u001b[0;34m[\u001b[0m\u001b[0;36m0\u001b[0m\u001b[0;34m]\u001b[0m\u001b[0;34m,\u001b[0m \u001b[0mg1\u001b[0m\u001b[0;34m.\u001b[0m\u001b[0mchar_locations\u001b[0m\u001b[0;34m[\u001b[0m\u001b[0;36m0\u001b[0m\u001b[0;34m]\u001b[0m\u001b[0;34m,\u001b[0m \u001b[0;36m0\u001b[0m \u001b[0;34m==\u001b[0m \u001b[0mg1\u001b[0m\u001b[0;34m.\u001b[0m\u001b[0mdead_person\u001b[0m\u001b[0;34m,\u001b[0m \u001b[0;36m0\u001b[0m \u001b[0;34m==\u001b[0m \u001b[0mg1\u001b[0m\u001b[0;34m.\u001b[0m\u001b[0mkiller\u001b[0m\u001b[0;34m)\u001b[0m\u001b[0;34m\u001b[0m\u001b[0;34m\u001b[0m\u001b[0m\n\u001b[0m\u001b[1;32m      2\u001b[0m \u001b[0mMela\u001b[0m\u001b[0;34m.\u001b[0m\u001b[0mpersonality_dict\u001b[0m\u001b[0;34m\u001b[0m\u001b[0;34m\u001b[0m\u001b[0m\n",
      "\u001b[0;32m/var/folders/vx/026hlx851_zcnp0g16d50p2r0000gn/T/ipykernel_3582/3035434125.py\u001b[0m in \u001b[0;36m__init__\u001b[0;34m(self, number, name, location, is_dead, is_killer)\u001b[0m\n\u001b[1;32m    136\u001b[0m         \u001b[0mself\u001b[0m\u001b[0;34m.\u001b[0m\u001b[0mfake_location\u001b[0m \u001b[0;34m=\u001b[0m \u001b[0;34m'bar'\u001b[0m \u001b[0;32mif\u001b[0m \u001b[0mis_killer\u001b[0m \u001b[0;32melse\u001b[0m \u001b[0mlocation\u001b[0m\u001b[0;34m\u001b[0m\u001b[0;34m\u001b[0m\u001b[0m\n\u001b[1;32m    137\u001b[0m \u001b[0;34m\u001b[0m\u001b[0m\n\u001b[0;32m--> 138\u001b[0;31m         \u001b[0mself\u001b[0m\u001b[0;34m.\u001b[0m\u001b[0mpersonality\u001b[0m \u001b[0;34m=\u001b[0m \u001b[0mself\u001b[0m\u001b[0;34m.\u001b[0m\u001b[0mgenerate_personality\u001b[0m\u001b[0;34m(\u001b[0m\u001b[0;34m)\u001b[0m\u001b[0;34m\u001b[0m\u001b[0;34m\u001b[0m\u001b[0m\n\u001b[0m\u001b[1;32m    139\u001b[0m         \u001b[0mself\u001b[0m\u001b[0;34m.\u001b[0m\u001b[0mrelationships\u001b[0m \u001b[0;34m=\u001b[0m \u001b[0mself\u001b[0m\u001b[0;34m.\u001b[0m\u001b[0mgenerate_relationships\u001b[0m\u001b[0;34m(\u001b[0m\u001b[0;34m)\u001b[0m\u001b[0;34m\u001b[0m\u001b[0;34m\u001b[0m\u001b[0m\n\u001b[1;32m    140\u001b[0m         \u001b[0mself\u001b[0m\u001b[0;34m.\u001b[0m\u001b[0mconfidantes\u001b[0m \u001b[0;34m=\u001b[0m \u001b[0mself\u001b[0m\u001b[0;34m.\u001b[0m\u001b[0mget_confidantes\u001b[0m\u001b[0;34m(\u001b[0m\u001b[0;34m)\u001b[0m\u001b[0;34m\u001b[0m\u001b[0;34m\u001b[0m\u001b[0m\n",
      "\u001b[0;32m/var/folders/vx/026hlx851_zcnp0g16d50p2r0000gn/T/ipykernel_3582/3035434125.py\u001b[0m in \u001b[0;36mgenerate_personality\u001b[0;34m(self)\u001b[0m\n\u001b[1;32m      8\u001b[0m     }\n\u001b[1;32m      9\u001b[0m     \u001b[0;32mdef\u001b[0m \u001b[0mgenerate_personality\u001b[0m\u001b[0;34m(\u001b[0m\u001b[0mself\u001b[0m\u001b[0;34m)\u001b[0m\u001b[0;34m:\u001b[0m\u001b[0;34m\u001b[0m\u001b[0;34m\u001b[0m\u001b[0m\n\u001b[0;32m---> 10\u001b[0;31m         \u001b[0;32mreturn\u001b[0m\u001b[0;34m(\u001b[0m\u001b[0mself\u001b[0m\u001b[0;34m.\u001b[0m\u001b[0mpersonality_dict\u001b[0m\u001b[0;34m[\u001b[0m\u001b[0mself\u001b[0m\u001b[0;34m.\u001b[0m\u001b[0mname\u001b[0m\u001b[0;34m]\u001b[0m\u001b[0;34m)\u001b[0m\u001b[0;34m\u001b[0m\u001b[0;34m\u001b[0m\u001b[0m\n\u001b[0m\u001b[1;32m     11\u001b[0m \u001b[0;34m\u001b[0m\u001b[0m\n\u001b[1;32m     12\u001b[0m \u001b[0;34m\u001b[0m\u001b[0m\n",
      "\u001b[0;31mKeyError\u001b[0m: 'Mela'"
     ]
    }
   ],
   "source": [
    "Mela = Character(0, g1.names[0], g1.char_locations[0], 0 == g1.dead_person, 0 == g1.killer)\n",
    "Mela.personality_dict"
   ]
  },
  {
   "cell_type": "code",
   "execution_count": 133,
   "metadata": {},
   "outputs": [
    {
     "data": {
      "text/plain": [
       "{'Zaya': \"Zaya is the town's doctor. She always sees the best in people, and strives to make people feel nurtured and secure.\",\n",
       " 'Kor': \"Kor is the town's 'wise old wizzard'. He leads the education of the youth and knows all the townspeople's personalities by heart. Full of pithy quotes and insights about humanity.\",\n",
       " 'Pari': \"Pari is the town's leader. Will do whatever it takes to solve a problem. Will throw caution to the wind and relies heavily on improvisation, though.\"}"
      ]
     },
     "execution_count": 133,
     "metadata": {},
     "output_type": "execute_result"
    }
   ],
   "source": [
    "Mela.personality_dict"
   ]
  },
  {
   "cell_type": "code",
   "execution_count": 128,
   "metadata": {},
   "outputs": [
    {
     "data": {
      "text/plain": [
       "'Mela is a wandering cowboy in for the night. She is brutally honest, quick to banter, impulsive, and a complete wildcard. She can kick your ass with a look.'"
      ]
     },
     "execution_count": 128,
     "metadata": {},
     "output_type": "execute_result"
    }
   ],
   "source": [
    "t = {'Mela': 'Mela is a wandering cowboy in for the night. She is brutally honest, quick to banter, impulsive, and a complete wildcard. She can kick your ass with a look.', 'Zaya': \"Zaya is the town's doctor. She always sees the best in people, and strives to make people feel nurtured and secure.\", 'Kor': \"Kor is the town's 'wise old wizzard'. He leads the education of the youth and knows all the townspeople's personalities by heart. Full of pithy quotes and insights about humanity.\", 'Pari': \"Pari is the town's leader. Will do whatever it takes to solve a problem. Will throw caution to the wind and relies heavily on improvisation, though.\"}\n",
    "\n",
    "t = t.pop('Mela')\n",
    "t"
   ]
  }
 ],
 "metadata": {
  "interpreter": {
   "hash": "31f2aee4e71d21fbe5cf8b01ff0e069b9275f58929596ceb00d14d90e3e16cd6"
  },
  "kernelspec": {
   "display_name": "Python 3.8.9 64-bit",
   "language": "python",
   "name": "python3"
  },
  "language_info": {
   "codemirror_mode": {
    "name": "ipython",
    "version": 3
   },
   "file_extension": ".py",
   "mimetype": "text/x-python",
   "name": "python",
   "nbconvert_exporter": "python",
   "pygments_lexer": "ipython3",
   "version": "3.8.9"
  },
  "orig_nbformat": 4
 },
 "nbformat": 4,
 "nbformat_minor": 2
}
