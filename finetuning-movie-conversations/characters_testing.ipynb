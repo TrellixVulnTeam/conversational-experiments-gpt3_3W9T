{
 "cells": [
  {
   "cell_type": "code",
   "execution_count": 13,
   "metadata": {},
   "outputs": [],
   "source": [
    "import openai\n",
    "import numpy as np\n",
    "import pandas as pd\n",
    "import json\n",
    "import random"
   ]
  },
  {
   "cell_type": "code",
   "execution_count": 84,
   "metadata": {},
   "outputs": [],
   "source": [
    "class Character:\n",
    "\n",
    "    def generate_personality(self):\n",
    "        if self.name == 'Mela':\n",
    "            return(\"Mela is a wandering cowboy in for the night. She is brutally honest, quick to banter, impulsive, and a complete wildcard. She can kick your ass with a look.\")\n",
    "        if self.name == 'Zaya':\n",
    "            return(\"Zaya is the town's doctor. She always sees the best in people, and strives to make people feel nurtured and secure.\")\n",
    "        if self.name == 'Kor':\n",
    "            return(\"Kor is the town's 'wise old wizzard'. He leads the education of the youth and knows all the townspeople's personalities by heart. Full of pithy quotes and insights about humanity.\")\n",
    "        if self.name == 'Pari':\n",
    "            return(\"Pari is the town's leader. Will do whatever it takes to solve a problem. Will throw caution to the wind and relies heavily on improvisation, though.\")\n",
    "\n",
    "\n",
    "    def generate_relationships(self):\n",
    "        if self.name == 'Mela':\n",
    "            return(\"Mela does't think much of anybody. She is indifferent to Zaya. She is indifferent to Kor. She dislikes Pari because he thinks he's too cool for school.\")\n",
    "        if self.name == 'Zaya':\n",
    "            return(\"Zaya is Pari's sister. She loves Pari with all her heart and will do anything to protect him, include lie. Zaya likes Kor, and will always recommend the detective talk to Kor about the other townspeople. Zaya thinks Mela is cute and has a crush on her.\")\n",
    "        if self.name == 'Kor':\n",
    "            return('Kor thinks Zaya is caring to a fault. Kor thinks Pari has potential, but is too reckless needs to be reigned in. Kor thinks Zaya is surprisingly hilarious and wants her to stay in town.')\n",
    "        if self.name == 'Pari':\n",
    "            return(\"Pari hates Mela because he thinks she is threatening his dominance over the town. Pari loves his sister Zaya. Pari is skeptical of Kor. Kor disciplined Pari as a youth, and Pari is unsure if Kor is good for the town.\")\n",
    "\n",
    "    \n",
    "    def get_confidantes(self):\n",
    "        pos = [i for i, x in enumerate(g1.char_locations) if x == self.location]\n",
    "        names = [g1.names[i] for i in pos]\n",
    "        names.remove(self.name)\n",
    "\n",
    "        return(names)\n",
    "\n",
    "    def __init__(self, number, name, location, is_dead, is_killer):\n",
    "        self.number = number\n",
    "        self.name = name\n",
    "        self.location = location\n",
    "        self.is_dead = is_dead\n",
    "        self.is_killer = is_killer \n",
    "        self.fake_location = 'bar' if is_killer else location\n",
    "\n",
    "        self.personality = self.generate_personality()\n",
    "        self.relationships = self.generate_relationships()\n",
    "        self.confidantes = self.get_confidantes()\n",
    "\n",
    "    "
   ]
  },
  {
   "cell_type": "code",
   "execution_count": 85,
   "metadata": {},
   "outputs": [],
   "source": [
    "class Game:\n",
    "    def generate_motive(self):\n",
    "        motive = self.names[self.dead_person] + ' slept with ' + self.names[self.killer] + \"'s partner\"\n",
    "        return(motive)\n",
    "        \n",
    "\n",
    "    def __init__(self):\n",
    "\n",
    "        self.names = ['Mela', 'Zaya', 'Kor', 'Pari']\n",
    "        self.locations = ['bar', 'hotel', 'theatre']\n",
    "\n",
    "        self.dead_person = random.randint(0, 3)\n",
    "        self.killer = self.dead_person\n",
    "\n",
    "        while(self.killer == self.dead_person):\n",
    "            self.killer = random.randint(0,3)\n",
    "\n",
    "        self.char_locations = [\n",
    "            random.choice(self.locations),\n",
    "            random.choice(self.locations),\n",
    "            random.choice(self.locations),\n",
    "            random.choice(self.locations)\n",
    "        ]\n",
    "\n",
    "        self.motive = self.generate_motive()"
   ]
  },
  {
   "cell_type": "code",
   "execution_count": 86,
   "metadata": {},
   "outputs": [],
   "source": [
    "g1 = Game()\n",
    "\n",
    "Mela = Character(0, g1.names[0], g1.char_locations[0], 0 == g1.dead_person, 0 == g1.killer)\n",
    "Zaya = Character(1, g1.names[1], g1.char_locations[1], 1 == g1.dead_person, 1 == g1.killer)\n",
    "Kor = Character(2, g1.names[2], g1.char_locations[2], 2 == g1.dead_person, 2 == g1.killer)\n",
    "Pari = Character(3, g1.names[3], g1.char_locations[3], 3 == g1.dead_person, 3 == g1.killer)"
   ]
  }
 ],
 "metadata": {
  "interpreter": {
   "hash": "31f2aee4e71d21fbe5cf8b01ff0e069b9275f58929596ceb00d14d90e3e16cd6"
  },
  "kernelspec": {
   "display_name": "Python 3.8.9 64-bit",
   "language": "python",
   "name": "python3"
  },
  "language_info": {
   "codemirror_mode": {
    "name": "ipython",
    "version": 3
   },
   "file_extension": ".py",
   "mimetype": "text/x-python",
   "name": "python",
   "nbconvert_exporter": "python",
   "pygments_lexer": "ipython3",
   "version": "3.8.9"
  },
  "orig_nbformat": 4
 },
 "nbformat": 4,
 "nbformat_minor": 2
}
