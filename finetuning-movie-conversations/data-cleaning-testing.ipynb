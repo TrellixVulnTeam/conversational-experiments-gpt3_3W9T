{
 "cells": [
  {
   "cell_type": "code",
   "execution_count": 1,
   "metadata": {},
   "outputs": [],
   "source": [
    "import openai \n",
    "import pandas as pd \n",
    "import numpy as np\n",
    "import json\n",
    "from datetime import datetime\n",
    "from dfply import *\n",
    "from plotnine import *"
   ]
  },
  {
   "cell_type": "code",
   "execution_count": 2,
   "metadata": {},
   "outputs": [],
   "source": [
    "conversations = pd.read_csv(\"cornell-dialog-data/movie_conversations.tsv\", encoding='utf-8-sig', sep=\"\\t\", header = None)\n",
    "titles = pd.read_csv(\"cornell-dialog-data/movie_titles_metadata.tsv\", encoding='utf-8-sig', sep=\"\\t\", header = None)\n",
    "lines_raw = pd.read_csv(\"cornell-dialog-data/movie_lines.tsv\", encoding='utf-8-sig', header = None)\n",
    "lines_list = lines_raw[0].str.split('\\t')\n",
    "characters_raw = pd.read_csv(\"cornell-dialog-data/movie_characters_metadata.tsv\", encoding='utf-8-sig', header = None)\n",
    "characters_list = characters_raw[0].str.split('\\t')"
   ]
  }
 ],
 "metadata": {
  "interpreter": {
   "hash": "6979798e2125de15e4a7561862f263a806d8a11cba418a5f110c99bc87f4482d"
  },
  "kernelspec": {
   "display_name": "Python 3.8.5 64-bit ('env': venv)",
   "language": "python",
   "name": "python3"
  },
  "language_info": {
   "codemirror_mode": {
    "name": "ipython",
    "version": 3
   },
   "file_extension": ".py",
   "mimetype": "text/x-python",
   "name": "python",
   "nbconvert_exporter": "python",
   "pygments_lexer": "ipython3",
   "version": "3.8.9"
  },
  "orig_nbformat": 4
 },
 "nbformat": 4,
 "nbformat_minor": 2
}
