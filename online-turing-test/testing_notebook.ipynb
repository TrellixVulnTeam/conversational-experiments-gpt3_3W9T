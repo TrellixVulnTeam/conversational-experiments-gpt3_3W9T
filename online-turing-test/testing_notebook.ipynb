{
 "cells": [
  {
   "cell_type": "code",
   "execution_count": 4,
   "metadata": {},
   "outputs": [],
   "source": [
    "conversation_config = {\n",
    "    \"1\": [\n",
    "            {\n",
    "            \"Human\": [\n",
    "                \"Hello, who are you?\",\n",
    "                \"So are you the AI?\"\n",
    "            ],\n",
    "            \"AI\": [\n",
    "                \"I'm Jack, what do you want?\",\n",
    "                \"I'm as real as you are, baby\"\n",
    "            ]\n",
    "        }\n",
    "    ],\n",
    "    \"2\": [\n",
    "            {\n",
    "            \"Human\": [\n",
    "                \"Hello, who are you?\",\n",
    "                \"So are you the AI?\"\n",
    "            ],\n",
    "            \"AI\": [\n",
    "                \"I'm Jack, what do you want?\",\n",
    "                \"I'm as real as you are, baby\"\n",
    "            ]\n",
    "        }\n",
    "    ],\n",
    "    \"3\": [\n",
    "            {\n",
    "            \"Human\": [\n",
    "                \"Hello, who are you?\",\n",
    "                \"So are you the AI?\"\n",
    "            ],\n",
    "            \"AI\": [\n",
    "                \"I'm Jack, what do you want?\",\n",
    "                \"I'm as real as you are, baby\"\n",
    "            ]\n",
    "        }\n",
    "    ],\n",
    "    \"4\": [\n",
    "            {\n",
    "            \"Human\": [\n",
    "                \"Hello, who are you?\",\n",
    "                \"So are you the AI?\"\n",
    "            ],\n",
    "            \"AI\": [\n",
    "                \"I'm Jack, what do you want?\",\n",
    "                \"I'm as real as you are, baby\"\n",
    "            ]\n",
    "        }\n",
    "    ] \n",
    "}"
   ]
  },
  {
   "cell_type": "code",
   "execution_count": 5,
   "metadata": {},
   "outputs": [
    {
     "data": {
      "text/plain": [
       "['Hello, who are you?', 'So are you the AI?']"
      ]
     },
     "execution_count": 5,
     "metadata": {},
     "output_type": "execute_result"
    }
   ],
   "source": [
    "conversation_config['4'][-1]['Human']"
   ]
  }
 ],
 "metadata": {
  "interpreter": {
   "hash": "8809a59a87d0ba7e216ec90bf604413bcd1490209468a0042b13ca6d6e262067"
  },
  "kernelspec": {
   "display_name": "Python 3.8.5 64-bit ('env': venv)",
   "language": "python",
   "name": "python3"
  },
  "language_info": {
   "codemirror_mode": {
    "name": "ipython",
    "version": 3
   },
   "file_extension": ".py",
   "mimetype": "text/x-python",
   "name": "python",
   "nbconvert_exporter": "python",
   "pygments_lexer": "ipython3",
   "version": "3.8.5"
  },
  "orig_nbformat": 4
 },
 "nbformat": 4,
 "nbformat_minor": 2
}
